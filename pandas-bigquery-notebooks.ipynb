{
 "cells": [
  {
   "cell_type": "code",
   "execution_count": 3,
   "id": "87a11413",
   "metadata": {},
   "outputs": [],
   "source": [
    "import os\n",
    "os.environ[\"GOOGLE_APPLICATION_CREDENTIALS\"] = r\"C:\\Users\\soumy\\Downloads\\modern-optics-449413-t5-d44f372c3ce2.json\""
   ]
  },
  {
   "cell_type": "code",
   "execution_count": 4,
   "id": "bfd61346",
   "metadata": {},
   "outputs": [
    {
     "name": "stdout",
     "output_type": "stream",
     "text": [
      "Requirement already satisfied: google-cloud-bigquery in c:\\users\\soumy\\downloads\\ana\\lib\\site-packages (3.31.0)\n",
      "Requirement already satisfied: google-api-core[grpc]<3.0.0,>=2.11.1 in c:\\users\\soumy\\downloads\\ana\\lib\\site-packages (from google-cloud-bigquery) (2.24.2)\n",
      "Requirement already satisfied: google-auth<3.0.0,>=2.14.1 in c:\\users\\soumy\\downloads\\ana\\lib\\site-packages (from google-cloud-bigquery) (2.38.0)\n",
      "Requirement already satisfied: google-cloud-core<3.0.0,>=2.4.1 in c:\\users\\soumy\\downloads\\ana\\lib\\site-packages (from google-cloud-bigquery) (2.4.3)\n",
      "Requirement already satisfied: google-resumable-media<3.0.0,>=2.0.0 in c:\\users\\soumy\\downloads\\ana\\lib\\site-packages (from google-cloud-bigquery) (2.7.2)\n",
      "Requirement already satisfied: packaging>=24.2.0 in c:\\users\\soumy\\downloads\\ana\\lib\\site-packages (from google-cloud-bigquery) (24.2)\n",
      "Requirement already satisfied: python-dateutil<3.0.0,>=2.8.2 in c:\\users\\soumy\\downloads\\ana\\lib\\site-packages (from google-cloud-bigquery) (2.8.2)\n",
      "Requirement already satisfied: requests<3.0.0,>=2.21.0 in c:\\users\\soumy\\downloads\\ana\\lib\\site-packages (from google-cloud-bigquery) (2.31.0)\n",
      "Requirement already satisfied: googleapis-common-protos<2.0.0,>=1.56.2 in c:\\users\\soumy\\downloads\\ana\\lib\\site-packages (from google-api-core[grpc]<3.0.0,>=2.11.1->google-cloud-bigquery) (1.69.2)\n",
      "Requirement already satisfied: protobuf!=3.20.0,!=3.20.1,!=4.21.0,!=4.21.1,!=4.21.2,!=4.21.3,!=4.21.4,!=4.21.5,<7.0.0,>=3.19.5 in c:\\users\\soumy\\downloads\\ana\\lib\\site-packages (from google-api-core[grpc]<3.0.0,>=2.11.1->google-cloud-bigquery) (5.29.4)\n",
      "Requirement already satisfied: proto-plus<2.0.0,>=1.22.3 in c:\\users\\soumy\\downloads\\ana\\lib\\site-packages (from google-api-core[grpc]<3.0.0,>=2.11.1->google-cloud-bigquery) (1.26.1)\n",
      "Requirement already satisfied: grpcio<2.0dev,>=1.33.2 in c:\\users\\soumy\\downloads\\ana\\lib\\site-packages (from google-api-core[grpc]<3.0.0,>=2.11.1->google-cloud-bigquery) (1.71.0)\n",
      "Requirement already satisfied: grpcio-status<2.0.dev0,>=1.33.2 in c:\\users\\soumy\\downloads\\ana\\lib\\site-packages (from google-api-core[grpc]<3.0.0,>=2.11.1->google-cloud-bigquery) (1.71.0)\n",
      "Requirement already satisfied: cachetools<6.0,>=2.0.0 in c:\\users\\soumy\\downloads\\ana\\lib\\site-packages (from google-auth<3.0.0,>=2.14.1->google-cloud-bigquery) (5.5.2)\n",
      "Requirement already satisfied: pyasn1-modules>=0.2.1 in c:\\users\\soumy\\downloads\\ana\\lib\\site-packages (from google-auth<3.0.0,>=2.14.1->google-cloud-bigquery) (0.2.8)\n",
      "Requirement already satisfied: rsa<5,>=3.1.4 in c:\\users\\soumy\\downloads\\ana\\lib\\site-packages (from google-auth<3.0.0,>=2.14.1->google-cloud-bigquery) (4.9)\n",
      "Requirement already satisfied: google-crc32c<2.0dev,>=1.0 in c:\\users\\soumy\\downloads\\ana\\lib\\site-packages (from google-resumable-media<3.0.0,>=2.0.0->google-cloud-bigquery) (1.7.1)\n",
      "Requirement already satisfied: six>=1.5 in c:\\users\\soumy\\downloads\\ana\\lib\\site-packages (from python-dateutil<3.0.0,>=2.8.2->google-cloud-bigquery) (1.16.0)\n",
      "Requirement already satisfied: charset-normalizer<4,>=2 in c:\\users\\soumy\\downloads\\ana\\lib\\site-packages (from requests<3.0.0,>=2.21.0->google-cloud-bigquery) (2.0.4)\n",
      "Requirement already satisfied: idna<4,>=2.5 in c:\\users\\soumy\\downloads\\ana\\lib\\site-packages (from requests<3.0.0,>=2.21.0->google-cloud-bigquery) (3.4)\n",
      "Requirement already satisfied: urllib3<3,>=1.21.1 in c:\\users\\soumy\\downloads\\ana\\lib\\site-packages (from requests<3.0.0,>=2.21.0->google-cloud-bigquery) (1.26.16)\n",
      "Requirement already satisfied: certifi>=2017.4.17 in c:\\users\\soumy\\downloads\\ana\\lib\\site-packages (from requests<3.0.0,>=2.21.0->google-cloud-bigquery) (2023.7.22)\n",
      "Requirement already satisfied: pyasn1<0.5.0,>=0.4.6 in c:\\users\\soumy\\downloads\\ana\\lib\\site-packages (from pyasn1-modules>=0.2.1->google-auth<3.0.0,>=2.14.1->google-cloud-bigquery) (0.4.8)\n"
     ]
    }
   ],
   "source": [
    "import sys\n",
    "!{sys.executable} -m pip install google-cloud-bigquery\n"
   ]
  },
  {
   "cell_type": "code",
   "execution_count": 13,
   "id": "6783e800",
   "metadata": {},
   "outputs": [
    {
     "name": "stdout",
     "output_type": "stream",
     "text": [
      "Collecting db-dtypes\n",
      "  Obtaining dependency information for db-dtypes from https://files.pythonhosted.org/packages/69/aa/8f09c6af64d562606d128acab327dab759ac005a204f470c6d257f47d857/db_dtypes-1.4.2-py2.py3-none-any.whl.metadata\n",
      "  Downloading db_dtypes-1.4.2-py2.py3-none-any.whl.metadata (3.0 kB)\n",
      "Requirement already satisfied: packaging>=17.0 in c:\\users\\soumy\\downloads\\ana\\lib\\site-packages (from db-dtypes) (24.2)\n",
      "Requirement already satisfied: pandas>=0.24.2 in c:\\users\\soumy\\downloads\\ana\\lib\\site-packages (from db-dtypes) (2.0.3)\n",
      "Requirement already satisfied: pyarrow>=3.0.0 in c:\\users\\soumy\\downloads\\ana\\lib\\site-packages (from db-dtypes) (11.0.0)\n",
      "Requirement already satisfied: numpy>=1.16.6 in c:\\users\\soumy\\downloads\\ana\\lib\\site-packages (from db-dtypes) (1.24.3)\n",
      "Requirement already satisfied: python-dateutil>=2.8.2 in c:\\users\\soumy\\downloads\\ana\\lib\\site-packages (from pandas>=0.24.2->db-dtypes) (2.8.2)\n",
      "Requirement already satisfied: pytz>=2020.1 in c:\\users\\soumy\\downloads\\ana\\lib\\site-packages (from pandas>=0.24.2->db-dtypes) (2023.3.post1)\n",
      "Requirement already satisfied: tzdata>=2022.1 in c:\\users\\soumy\\downloads\\ana\\lib\\site-packages (from pandas>=0.24.2->db-dtypes) (2023.3)\n",
      "Requirement already satisfied: six>=1.5 in c:\\users\\soumy\\downloads\\ana\\lib\\site-packages (from python-dateutil>=2.8.2->pandas>=0.24.2->db-dtypes) (1.16.0)\n",
      "Downloading db_dtypes-1.4.2-py2.py3-none-any.whl (18 kB)\n",
      "Installing collected packages: db-dtypes\n",
      "Successfully installed db-dtypes-1.4.2\n"
     ]
    }
   ],
   "source": [
    "import sys\n",
    "!{sys.executable} -m pip install db-dtypes"
   ]
  },
  {
   "cell_type": "code",
   "execution_count": 7,
   "id": "c7157528",
   "metadata": {
    "scrolled": true
   },
   "outputs": [],
   "source": [
    "from google.cloud import bigquery\n",
    "\n",
    "# Initialize the client with the service account credentials\n",
    "client = bigquery.Client()\n",
    "\n",
    "\n"
   ]
  },
  {
   "cell_type": "code",
   "execution_count": 9,
   "id": "b744ff04",
   "metadata": {},
   "outputs": [
    {
     "name": "stderr",
     "output_type": "stream",
     "text": [
      "C:\\Users\\soumy\\Downloads\\ana\\Lib\\site-packages\\google\\cloud\\bigquery\\table.py:1933: UserWarning: BigQuery Storage module not found, fetch data with the REST endpoint instead.\n",
      "  warnings.warn(\n"
     ]
    },
    {
     "data": {
      "text/html": [
       "<div>\n",
       "<style scoped>\n",
       "    .dataframe tbody tr th:only-of-type {\n",
       "        vertical-align: middle;\n",
       "    }\n",
       "\n",
       "    .dataframe tbody tr th {\n",
       "        vertical-align: top;\n",
       "    }\n",
       "\n",
       "    .dataframe thead th {\n",
       "        text-align: right;\n",
       "    }\n",
       "</style>\n",
       "<table border=\"1\" class=\"dataframe\">\n",
       "  <thead>\n",
       "    <tr style=\"text-align: right;\">\n",
       "      <th></th>\n",
       "      <th>Age</th>\n",
       "      <th>Gender</th>\n",
       "      <th>AnnualIncome</th>\n",
       "      <th>NumberOfPurchases</th>\n",
       "      <th>ProductCategory</th>\n",
       "      <th>TimeSpentOnWebsite</th>\n",
       "      <th>LoyaltyProgram</th>\n",
       "      <th>DiscountsAvailed</th>\n",
       "      <th>PurchaseStatus</th>\n",
       "    </tr>\n",
       "  </thead>\n",
       "  <tbody>\n",
       "    <tr>\n",
       "      <th>0</th>\n",
       "      <td>18</td>\n",
       "      <td>1</td>\n",
       "      <td>149785.176481</td>\n",
       "      <td>10</td>\n",
       "      <td>0</td>\n",
       "      <td>38.979469</td>\n",
       "      <td>0</td>\n",
       "      <td>5</td>\n",
       "      <td>1</td>\n",
       "    </tr>\n",
       "    <tr>\n",
       "      <th>1</th>\n",
       "      <td>18</td>\n",
       "      <td>0</td>\n",
       "      <td>42734.586833</td>\n",
       "      <td>12</td>\n",
       "      <td>0</td>\n",
       "      <td>56.137874</td>\n",
       "      <td>0</td>\n",
       "      <td>0</td>\n",
       "      <td>0</td>\n",
       "    </tr>\n",
       "    <tr>\n",
       "      <th>2</th>\n",
       "      <td>18</td>\n",
       "      <td>1</td>\n",
       "      <td>87934.957914</td>\n",
       "      <td>6</td>\n",
       "      <td>0</td>\n",
       "      <td>59.968606</td>\n",
       "      <td>1</td>\n",
       "      <td>4</td>\n",
       "      <td>1</td>\n",
       "    </tr>\n",
       "    <tr>\n",
       "      <th>3</th>\n",
       "      <td>18</td>\n",
       "      <td>0</td>\n",
       "      <td>46262.036892</td>\n",
       "      <td>19</td>\n",
       "      <td>0</td>\n",
       "      <td>32.655011</td>\n",
       "      <td>0</td>\n",
       "      <td>5</td>\n",
       "      <td>1</td>\n",
       "    </tr>\n",
       "    <tr>\n",
       "      <th>4</th>\n",
       "      <td>18</td>\n",
       "      <td>0</td>\n",
       "      <td>47643.768928</td>\n",
       "      <td>15</td>\n",
       "      <td>0</td>\n",
       "      <td>7.269688</td>\n",
       "      <td>1</td>\n",
       "      <td>5</td>\n",
       "      <td>1</td>\n",
       "    </tr>\n",
       "  </tbody>\n",
       "</table>\n",
       "</div>"
      ],
      "text/plain": [
       "   Age  Gender   AnnualIncome  NumberOfPurchases  ProductCategory  \\\n",
       "0   18       1  149785.176481                 10                0   \n",
       "1   18       0   42734.586833                 12                0   \n",
       "2   18       1   87934.957914                  6                0   \n",
       "3   18       0   46262.036892                 19                0   \n",
       "4   18       0   47643.768928                 15                0   \n",
       "\n",
       "   TimeSpentOnWebsite  LoyaltyProgram  DiscountsAvailed  PurchaseStatus  \n",
       "0           38.979469               0                 5               1  \n",
       "1           56.137874               0                 0               0  \n",
       "2           59.968606               1                 4               1  \n",
       "3           32.655011               0                 5               1  \n",
       "4            7.269688               1                 5               1  "
      ]
     },
     "execution_count": 9,
     "metadata": {},
     "output_type": "execute_result"
    }
   ],
   "source": [
    "query = \"\"\"\n",
    "SELECT * FROM `modern-optics-449413-t5.marketing_test.customer_purchase_data`\n",
    "LIMIT 100\n",
    "\"\"\"\n",
    "\n",
    "# Run the query and load it into a DataFrame\n",
    "df = client.query(query).to_dataframe()\n",
    "df.head()\n"
   ]
  },
  {
   "cell_type": "code",
   "execution_count": null,
   "id": "61a5383e",
   "metadata": {},
   "outputs": [],
   "source": []
  }
 ],
 "metadata": {
  "kernelspec": {
   "display_name": "Python 3 (ipykernel)",
   "language": "python",
   "name": "python3"
  },
  "language_info": {
   "codemirror_mode": {
    "name": "ipython",
    "version": 3
   },
   "file_extension": ".py",
   "mimetype": "text/x-python",
   "name": "python",
   "nbconvert_exporter": "python",
   "pygments_lexer": "ipython3",
   "version": "3.11.5"
  }
 },
 "nbformat": 4,
 "nbformat_minor": 5
}
